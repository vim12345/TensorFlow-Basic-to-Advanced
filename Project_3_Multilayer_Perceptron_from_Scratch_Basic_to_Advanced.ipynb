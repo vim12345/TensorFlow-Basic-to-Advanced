{
  "nbformat": 4,
  "nbformat_minor": 0,
  "metadata": {
    "colab": {
      "provenance": []
    },
    "kernelspec": {
      "name": "python3",
      "display_name": "Python 3"
    },
    "language_info": {
      "name": "python"
    }
  },
  "cells": [
    {
      "cell_type": "markdown",
      "source": [
        "# Description:\n",
        "Create a basic feedforward neural network (MLP) using TensorFlow 2 to classify data from the Iris dataset (3 classes)."
      ],
      "metadata": {
        "id": "R-u-TDpUf7Bs"
      }
    },
    {
      "cell_type": "code",
      "execution_count": 1,
      "metadata": {
        "id": "MQ2SrMdjfsIx"
      },
      "outputs": [],
      "source": [
        "import tensorflow as tf\n",
        "from sklearn.datasets import load_iris\n",
        "from sklearn.model_selection import train_test_split\n",
        "from sklearn.preprocessing import OneHotEncoder, StandardScaler"
      ]
    },
    {
      "cell_type": "code",
      "source": [
        "# load iris dataset\n",
        "iris = load_iris()\n",
        "X=iris.data   # features: sepal and petal length/width\n",
        "y=iris.target.reshape(-1,1) # labels: 0,1,2"
      ],
      "metadata": {
        "id": "qtGUVWpDgUDK"
      },
      "execution_count": 2,
      "outputs": []
    },
    {
      "cell_type": "code",
      "source": [
        "# one-hot encode labels for multi-class classification\n",
        "encoder=OneHotEncoder(sparse_output=False)\n",
        "y_encoded=encoder.fit_transform(y)  # convert to one-hot format"
      ],
      "metadata": {
        "id": "iS1jUUM5gUHr"
      },
      "execution_count": 4,
      "outputs": []
    },
    {
      "cell_type": "code",
      "source": [
        "# Standardize features\n",
        "scaler = StandardScaler()\n",
        "X_scaled = scaler.fit_transform(X)                      # Normalize features"
      ],
      "metadata": {
        "id": "rfWecgAYiQU2"
      },
      "execution_count": 6,
      "outputs": []
    },
    {
      "cell_type": "code",
      "source": [
        "# split into training and testing sets\n",
        "X_train, X_test, y_train, y_test = train_test_split(X_scaled, y_encoded, test_size=0.2, random_state=42)"
      ],
      "metadata": {
        "id": "_i88F4axgUNB"
      },
      "execution_count": 7,
      "outputs": []
    },
    {
      "cell_type": "code",
      "source": [
        "# define the MLP model\n",
        "model=tf.keras.Sequential([\n",
        "    tf.keras.layers.Dense(10, activation='relu', input_shape=(4,)),  # first hidden layer with 10 Relu units\n",
        "    tf.keras.layers.Dense(8, activation='relu'),  # second hidden layer with 8 ReLU units\n",
        "    tf.keras.layers.Dense(3, activation='softmax')  # Output layer with softmax for 3 classes\n",
        "])"
      ],
      "metadata": {
        "colab": {
          "base_uri": "https://localhost:8080/"
        },
        "id": "cVAVQXGmgUQv",
        "outputId": "05197322-d22d-4345-9727-c73fd3d38d7e"
      },
      "execution_count": 8,
      "outputs": [
        {
          "output_type": "stream",
          "name": "stderr",
          "text": [
            "/usr/local/lib/python3.11/dist-packages/keras/src/layers/core/dense.py:87: UserWarning: Do not pass an `input_shape`/`input_dim` argument to a layer. When using Sequential models, prefer using an `Input(shape)` object as the first layer in the model instead.\n",
            "  super().__init__(activity_regularizer=activity_regularizer, **kwargs)\n"
          ]
        }
      ]
    },
    {
      "cell_type": "code",
      "source": [
        "# compile the model with categorical crossentropy and Adam optimizer\n",
        "model.compile(optimizer='adam', loss='categorical_crossentropy', metrics=['accuracy'])"
      ],
      "metadata": {
        "id": "eseqmZdygUTn"
      },
      "execution_count": 11,
      "outputs": []
    },
    {
      "cell_type": "code",
      "source": [
        "# train the model\n",
        "model.fit(X_train, y_train, epochs=100, verbose=0) # train silently for 100 epochs"
      ],
      "metadata": {
        "colab": {
          "base_uri": "https://localhost:8080/"
        },
        "id": "03ECsPgbgUXX",
        "outputId": "82123ba4-c0e4-4df8-beb3-e8705f1ebcba"
      },
      "execution_count": 12,
      "outputs": [
        {
          "output_type": "execute_result",
          "data": {
            "text/plain": [
              "<keras.src.callbacks.history.History at 0x7bcb89c8ce50>"
            ]
          },
          "metadata": {},
          "execution_count": 12
        }
      ]
    },
    {
      "cell_type": "code",
      "source": [
        "# Evaluate the model on the test set\n",
        "loss, acc = model.evaluate(X_test, y_test, verbose=0) # evaluate model performance\n",
        "print(f'Test Accuracy: {acc:2f}')"
      ],
      "metadata": {
        "colab": {
          "base_uri": "https://localhost:8080/"
        },
        "id": "ipEs55ncgUau",
        "outputId": "76e42eab-4394-4467-e753-700e4ba1720c"
      },
      "execution_count": 13,
      "outputs": [
        {
          "output_type": "stream",
          "name": "stdout",
          "text": [
            "Test Accuracy: 0.966667\n"
          ]
        }
      ]
    },
    {
      "cell_type": "code",
      "source": [],
      "metadata": {
        "id": "S3pDQ3UGmiVz"
      },
      "execution_count": null,
      "outputs": []
    }
  ]
}